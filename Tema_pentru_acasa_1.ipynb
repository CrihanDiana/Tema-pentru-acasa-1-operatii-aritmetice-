{
 "cells": [
  {
   "cell_type": "code",
   "execution_count": 46,
   "id": "1eed98ca",
   "metadata": {},
   "outputs": [],
   "source": [
    "import math"
   ]
  },
  {
   "cell_type": "code",
   "execution_count": 47,
   "id": "c0a61461",
   "metadata": {},
   "outputs": [
    {
     "name": "stdout",
     "output_type": "stream",
     "text": [
      "ax ^ 2 + bx + c\n"
     ]
    }
   ],
   "source": [
    "print('ax ^ 2 + bx + c')"
   ]
  },
  {
   "cell_type": "code",
   "execution_count": 48,
   "id": "df07aa82",
   "metadata": {},
   "outputs": [],
   "source": [
    "a = 1\n",
    "b = -4\n",
    "c = -5\n"
   ]
  },
  {
   "cell_type": "code",
   "execution_count": 30,
   "id": "a570304e",
   "metadata": {},
   "outputs": [],
   "source": [
    "discrimenant = math.pow(b,2)-4*a*c"
   ]
  },
  {
   "cell_type": "code",
   "execution_count": 31,
   "id": "bff59cd2",
   "metadata": {},
   "outputs": [
    {
     "name": "stdout",
     "output_type": "stream",
     "text": [
      "36.0\n"
     ]
    }
   ],
   "source": [
    "print(discrimenant)"
   ]
  },
  {
   "cell_type": "code",
   "execution_count": 34,
   "id": "9f662e22",
   "metadata": {},
   "outputs": [
    {
     "name": "stdout",
     "output_type": "stream",
     "text": [
      "5.0\n",
      "-1.0\n"
     ]
    }
   ],
   "source": [
    "if discrimenant > 0:\n",
    "    x1 = (-b + math.sqrt(discrimenant))/(2*a)\n",
    "    x2 = (-b - math.sqrt(discrimenant))/(2*a)\n",
    "    print(x1)\n",
    "    print(x2)\n",
    "elif discrimenant == 0:\n",
    "    x = -b / (2*a)\n",
    "    print(x)\n",
    "else:\n",
    "    print('Ecuatia nu are solutii')"
   ]
  },
  {
   "cell_type": "code",
   "execution_count": 37,
   "id": "233c4020",
   "metadata": {},
   "outputs": [],
   "source": [
    "a = 1\n",
    "b = -6\n",
    "c = 9"
   ]
  },
  {
   "cell_type": "code",
   "execution_count": 38,
   "id": "c9a1aa0c",
   "metadata": {},
   "outputs": [],
   "source": [
    "discrimenant = math.pow(b,2)-4*a*c"
   ]
  },
  {
   "cell_type": "code",
   "execution_count": 39,
   "id": "338a5b8d",
   "metadata": {},
   "outputs": [
    {
     "name": "stdout",
     "output_type": "stream",
     "text": [
      "0.0\n"
     ]
    }
   ],
   "source": [
    "print(discrimenant)"
   ]
  },
  {
   "cell_type": "code",
   "execution_count": 40,
   "id": "1d261fe5",
   "metadata": {},
   "outputs": [
    {
     "name": "stdout",
     "output_type": "stream",
     "text": [
      "3.0\n"
     ]
    }
   ],
   "source": [
    "if discrimenant > 0:\n",
    "    x1 = (-b + math.sqrt(discrimenant))/(2*a)\n",
    "    x2 = (-b - math.sqrt(discrimenant))/(2*a)\n",
    "    print(x1)\n",
    "    print(x2)\n",
    "elif discrimenant == 0:\n",
    "    x = -b / (2*a)\n",
    "    print(x)\n",
    "else:\n",
    "    print('Ecuatia nu are solutii')"
   ]
  },
  {
   "cell_type": "code",
   "execution_count": 43,
   "id": "9caf6015",
   "metadata": {},
   "outputs": [],
   "source": [
    "a = 3\n",
    "b = -4\n",
    "c = 2"
   ]
  },
  {
   "cell_type": "code",
   "execution_count": 44,
   "id": "71eac971",
   "metadata": {},
   "outputs": [
    {
     "name": "stdout",
     "output_type": "stream",
     "text": [
      "-8.0\n"
     ]
    }
   ],
   "source": [
    "discrimenant = math.pow(b,2)-4*a*c\n",
    "print(discrimenant)"
   ]
  },
  {
   "cell_type": "code",
   "execution_count": 45,
   "id": "2f8da573",
   "metadata": {},
   "outputs": [
    {
     "name": "stdout",
     "output_type": "stream",
     "text": [
      "Ecuatia nu are solutii\n"
     ]
    }
   ],
   "source": [
    "if discrimenant > 0:\n",
    "    x1 = (-b + math.sqrt(discrimenant))/(2*a)\n",
    "    x2 = (-b - math.sqrt(discrimenant))/(2*a)\n",
    "    print(x1)\n",
    "    print(x2)\n",
    "elif discrimenant == 0:\n",
    "    x = -b / (2*a)\n",
    "    print(x)\n",
    "else:\n",
    "    print('Ecuatia nu are solutii')"
   ]
  },
  {
   "cell_type": "code",
   "execution_count": null,
   "id": "05f0e2fd",
   "metadata": {},
   "outputs": [],
   "source": []
  }
 ],
 "metadata": {
  "kernelspec": {
   "display_name": "Python 3",
   "language": "python",
   "name": "python3"
  },
  "language_info": {
   "codemirror_mode": {
    "name": "ipython",
    "version": 3
   },
   "file_extension": ".py",
   "mimetype": "text/x-python",
   "name": "python",
   "nbconvert_exporter": "python",
   "pygments_lexer": "ipython3",
   "version": "3.7.9"
  }
 },
 "nbformat": 4,
 "nbformat_minor": 5
}
